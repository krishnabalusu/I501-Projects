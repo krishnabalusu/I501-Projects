{
 "cells": [
  {
   "cell_type": "markdown",
   "id": "654cdbba-0b0a-4564-9fd7-1ca776d5c146",
   "metadata": {},
   "source": [
    "# Pair Problem\n",
    "\n",
    "Choose to work on one of the following. If you complete one while still in class, start working on the other! The most complete one will be graded."
   ]
  },
  {
   "cell_type": "markdown",
   "id": "aab60edf-a2ee-46f3-bcd4-72759182e9ed",
   "metadata": {},
   "source": [
    "## Option 1\n",
    "\n",
    "In programming languages, and especially in [LISP](https://en.wikipedia.org/wiki/Lisp_(programming_language)), there can be a lot of parentheses. The parentheses have to be \"balanced\" to be valid. For example, `()(())` is balanced, but `()())` is not balanced. Also, `)((())` is not balanced. (Think mathematics.)\n",
    "\n",
    "Write a function that takes a string and returns `True` if the string's parentheses are balanced, `False` if they are not.\n",
    "\n",
    "**Once you are finished, see if you can come up with a second way to solve the problem.**\n",
    "\n",
    "Here are examples to test your function with:\n",
    "\n",
    " * `(()()()())` should return `True`\n",
    " * `(((())))` should return `True`\n",
    " * `(()((())()))` should return `True`\n",
    " * `((((((())` should return `False`\n",
    " * `()))` should return `False`\n",
    " * `(()()))(()` should return `False`\n",
    " * `)()` and `()(` should both obviously return `False`"
   ]
  },
  {
   "cell_type": "code",
   "execution_count": null,
   "id": "6e0efafd-0a8e-4597-88ef-fa9803272021",
   "metadata": {},
   "outputs": [],
   "source": [
    "# your code here"
   ]
  },
  {
   "cell_type": "markdown",
   "id": "802a58d9-5639-4d69-8255-d1d5adb48dfb",
   "metadata": {},
   "source": [
    "## Option 2\n",
    "\n",
    "Write a function that receives a string and returns `True` or `False` depending on whether the word is a palindrome.  A palindrome is a word, phrase, or sequence that reads the same backward as forward. Examples of palindromes are `racecar` and `Nurses Run`. This function should be case sensitive, and it should ignore spaces.\n",
    "\n",
    "- Take a look at the `.lower()` and `.replace(,)` methods on a string.\n",
    "- Think about how you can reverse a string"
   ]
  },
  {
   "cell_type": "code",
   "execution_count": 2,
   "id": "7501c44a-79a9-45ae-82e4-38c00b444c64",
   "metadata": {},
   "outputs": [],
   "source": [
    "def ispalindrome(string):\n",
    "    if string==string[::-1]:\n",
    "        return \"the string is palindrome\"\n",
    "    else:\n",
    "        return \"string is not a palindrome\"\n",
    "    \n",
    "    string=input('enter a string:')"
   ]
  },
  {
   "cell_type": "code",
   "execution_count": 3,
   "id": "00f6a574-c6f8-4b0f-bb53-0bec75b2b0fa",
   "metadata": {},
   "outputs": [
    {
     "ename": "NameError",
     "evalue": "name 'kittu' is not defined",
     "output_type": "error",
     "traceback": [
      "\u001b[1;31m---------------------------------------------------------------------------\u001b[0m",
      "\u001b[1;31mNameError\u001b[0m                                 Traceback (most recent call last)",
      "Cell \u001b[1;32mIn[3], line 1\u001b[0m\n\u001b[1;32m----> 1\u001b[0m kittu\n",
      "\u001b[1;31mNameError\u001b[0m: name 'kittu' is not defined"
     ]
    }
   ],
   "source": []
  },
  {
   "cell_type": "code",
   "execution_count": null,
   "id": "1a10bed4",
   "metadata": {},
   "outputs": [],
   "source": []
  }
 ],
 "metadata": {
  "kernelspec": {
   "display_name": "project501",
   "language": "python",
   "name": "project501"
  },
  "language_info": {
   "codemirror_mode": {
    "name": "ipython",
    "version": 3
   },
   "file_extension": ".py",
   "mimetype": "text/x-python",
   "name": "python",
   "nbconvert_exporter": "python",
   "pygments_lexer": "ipython3",
   "version": "3.11.7"
  }
 },
 "nbformat": 4,
 "nbformat_minor": 5
}
